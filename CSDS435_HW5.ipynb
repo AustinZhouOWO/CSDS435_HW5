{
 "cells": [
  {
   "cell_type": "code",
   "execution_count": 305,
   "metadata": {},
   "outputs": [],
   "source": [
    "import math"
   ]
  },
  {
   "cell_type": "code",
   "execution_count": 306,
   "metadata": {},
   "outputs": [],
   "source": [
    "class Node:\n",
    "    \"\"\"\n",
    "    Class Node\n",
    "    \"\"\"\n",
    "    def __init__(self):\n",
    "        self.output = None\n",
    "        self.dict = {}\n",
    "        self.eta = 0\n",
    "        self.parent=[]\n",
    "        self.child=[]\n",
    "        self.hidden = False\n",
    "        self.outputs = False\n",
    "        self.ERR=None\n",
    "        self.Y=None\n",
    "        self.Ij=None\n",
    "        self.Oj=None"
   ]
  },
  {
   "cell_type": "code",
   "execution_count": 307,
   "metadata": {},
   "outputs": [],
   "source": [
    "node_1 = Node()"
   ]
  },
  {
   "cell_type": "code",
   "execution_count": 308,
   "metadata": {},
   "outputs": [],
   "source": [
    "node_2 = Node()"
   ]
  },
  {
   "cell_type": "code",
   "execution_count": 309,
   "metadata": {},
   "outputs": [],
   "source": [
    "node_3 = Node()\n",
    "node_3.eta=0.1"
   ]
  },
  {
   "cell_type": "code",
   "execution_count": 310,
   "metadata": {},
   "outputs": [],
   "source": [
    "node_4 = Node()\n",
    "node_4.eta=0.2"
   ]
  },
  {
   "cell_type": "code",
   "execution_count": 311,
   "metadata": {},
   "outputs": [],
   "source": [
    "node_5 = Node()\n",
    "node_5.eta=0.5"
   ]
  },
  {
   "cell_type": "code",
   "execution_count": 312,
   "metadata": {},
   "outputs": [],
   "source": [
    "node_6=Node()\n",
    "node_6.eta = -0.1"
   ]
  },
  {
   "cell_type": "code",
   "execution_count": 313,
   "metadata": {},
   "outputs": [],
   "source": [
    "node_7=Node()\n",
    "node_7.eta = 0.6"
   ]
  },
  {
   "cell_type": "code",
   "execution_count": 314,
   "metadata": {},
   "outputs": [],
   "source": [
    "node_1.parent= [node_3,node_4,node_5]\n",
    "node_2.parent= [node_3,node_4,node_5]\n",
    "node_3.child= [node_1,node_2]\n",
    "node_4.child= [node_1,node_2]\n",
    "node_5.child= [node_1,node_2]\n",
    "node_3.parent= [node_6,node_7]\n",
    "node_4.parent= [node_6,node_7]\n",
    "node_5.parent= [node_6,node_7]\n",
    "node_6.child= [node_3,node_4,node_5]\n",
    "node_7.child= [node_3,node_4,node_5]\n",
    "node_1.dict[node_3] = 0.1\n",
    "node_1.dict[node_4] = 0\n",
    "node_1.dict[node_5] = 0.3\n",
    "node_2.dict[node_3] = -0.2\n",
    "node_2.dict[node_4] = 0.2\n",
    "node_2.dict[node_5] = -0.4\n",
    "node_3.dict[node_6] = -0.4\n",
    "node_3.dict[node_7] = 0.2\n",
    "node_4.dict[node_6] = 0.1\n",
    "node_4.dict[node_7] = -0.1\n",
    "node_5.dict[node_6] = 0.6\n",
    "node_5.dict[node_7] = -0.2\n",
    "node_3.hidden = True\n",
    "node_4.hidden = True\n",
    "node_5.hidden = True\n",
    "node_6.outputs = True\n",
    "node_7.outputs = True"
   ]
  },
  {
   "cell_type": "markdown",
   "metadata": {},
   "source": [
    "#### Calculate Ij"
   ]
  },
  {
   "cell_type": "code",
   "execution_count": 315,
   "metadata": {},
   "outputs": [],
   "source": [
    "def calculate_Ij(node):\n",
    "    sum_=0\n",
    "    for i in node.child:\n",
    "        sum_+=i.dict.get(node)*i.output\n",
    "    sum_ += node.eta\n",
    "    node.Ij=sum_\n",
    "    return sum_"
   ]
  },
  {
   "cell_type": "markdown",
   "metadata": {},
   "source": [
    "#### Calculate Oj"
   ]
  },
  {
   "cell_type": "code",
   "execution_count": 316,
   "metadata": {},
   "outputs": [],
   "source": [
    "def calculate_Oj(node):\n",
    "    node.output= 1/(1+math.exp(-calculate_Ij(node)))\n",
    "    return node.output"
   ]
  },
  {
   "cell_type": "markdown",
   "metadata": {},
   "source": [
    "#### Calculate ERR"
   ]
  },
  {
   "cell_type": "code",
   "execution_count": 317,
   "metadata": {},
   "outputs": [],
   "source": [
    "def calculate_ERR(node):\n",
    "    if node.hidden:\n",
    "        sum = 0\n",
    "        for i in node.parent:\n",
    "            sum+=i.ERR  * node.dict.get(i)\n",
    "        node.ERR = node.output*(1-node.output)*sum\n",
    "    elif node.outputs:\n",
    "        node.ERR = node.output * (1-node.output)*(node.Y-node.output)\n",
    "    return node"
   ]
  },
  {
   "cell_type": "markdown",
   "metadata": {},
   "source": [
    "#### Update weight and eta"
   ]
  },
  {
   "cell_type": "code",
   "execution_count": 318,
   "metadata": {},
   "outputs": [],
   "source": [
    "def update(node, l):\n",
    "    if not node.outputs:\n",
    "        for i in node.parent:\n",
    "            change_in_weight = l*i.ERR*node.output\n",
    "            node.dict[i]+=change_in_weight\n",
    "    if node.hidden or node.outputs:\n",
    "        change_in_eta = l*node.ERR\n",
    "        node.eta += change_in_eta"
   ]
  },
  {
   "cell_type": "markdown",
   "metadata": {},
   "source": [
    "#### Set Input value for Node1 and Node 2 with 0.6, 0.1\n",
    "#### Set Node 6's label with 1 and Node 7's lable with 0"
   ]
  },
  {
   "cell_type": "code",
   "execution_count": 319,
   "metadata": {},
   "outputs": [],
   "source": [
    "node_1.output=0.6\n",
    "node_2.output=0.1\n",
    "node_6.Y=1\n",
    "node_7.Y=0"
   ]
  },
  {
   "cell_type": "markdown",
   "metadata": {},
   "source": [
    "#### Define ANN"
   ]
  },
  {
   "cell_type": "code",
   "execution_count": 320,
   "metadata": {},
   "outputs": [],
   "source": [
    "def ANN(x):\n",
    "    for i in x:\n",
    "        if i.hidden or i.outputs:\n",
    "            calculate_Oj(i)\n",
    "    for j in reversed(x):\n",
    "        if j.hidden or j.outputs:\n",
    "            calculate_ERR(j)\n",
    "    for h in x:\n",
    "        update(h,0.1)\n",
    "            "
   ]
  },
  {
   "cell_type": "code",
   "execution_count": 321,
   "metadata": {},
   "outputs": [],
   "source": [
    "weight_bias = ['w13','w14','w15','w23','w24','w25','w36','w37','w46','w47','w56','w57','eta3','eta4','eta5','eta6','eta7']"
   ]
  },
  {
   "cell_type": "code",
   "execution_count": 322,
   "metadata": {},
   "outputs": [],
   "source": [
    "def print_result(list):\n",
    "    l = []\n",
    "    for node in list:\n",
    "        if not node.outputs:\n",
    "            for i in node.parent:\n",
    "                l.append(node.dict.get(i))\n",
    "    for node in list:\n",
    "        if node.hidden or node.outputs:\n",
    "            l.append(node.eta)\n",
    "    for item_a, item_b in zip(weight_bias, l):\n",
    "        print(item_a, ': ',round(item_b,4))"
   ]
  },
  {
   "cell_type": "code",
   "execution_count": 323,
   "metadata": {},
   "outputs": [],
   "source": [
    "x = [node_1,node_2,node_3,node_4,node_5,node_6,node_7]"
   ]
  },
  {
   "cell_type": "markdown",
   "metadata": {},
   "source": [
    "#### {0.6,0.1,10}"
   ]
  },
  {
   "cell_type": "code",
   "execution_count": 324,
   "metadata": {},
   "outputs": [],
   "source": [
    "ANN(x)"
   ]
  },
  {
   "cell_type": "code",
   "execution_count": 325,
   "metadata": {
    "scrolled": true
   },
   "outputs": [
    {
     "name": "stdout",
     "output_type": "stream",
     "text": [
      "w13 :  0.0989\n",
      "w14 :  0.0004\n",
      "w15 :  0.3013\n",
      "w23 :  -0.2002\n",
      "w24 :  0.2001\n",
      "w25 :  -0.3998\n",
      "w36 :  -0.3938\n",
      "w37 :  0.1922\n",
      "w46 :  0.1064\n",
      "w47 :  -0.1081\n",
      "w56 :  0.6076\n",
      "w57 :  -0.2096\n",
      "eta3 :  0.0981\n",
      "eta4 :  0.2006\n",
      "eta5 :  0.5022\n",
      "eta6 :  -0.0884\n",
      "eta7 :  0.5853\n"
     ]
    }
   ],
   "source": [
    "print_result(x)"
   ]
  },
  {
   "cell_type": "markdown",
   "metadata": {},
   "source": [
    "#### Set Input value for Node1 and Node 2 with 0.2, 0.3\n",
    "#### Set Node 6's label with 0 and Node 7's lable with 1"
   ]
  },
  {
   "cell_type": "code",
   "execution_count": 94,
   "metadata": {},
   "outputs": [],
   "source": [
    "node_1.output=0.2\n",
    "node_2.output=0.3\n",
    "node_6.Y=0\n",
    "node_7.Y=1"
   ]
  },
  {
   "cell_type": "markdown",
   "metadata": {},
   "source": [
    "#### {0.2,0.3,01}"
   ]
  },
  {
   "cell_type": "code",
   "execution_count": 95,
   "metadata": {},
   "outputs": [],
   "source": [
    "ANN(x)"
   ]
  },
  {
   "cell_type": "code",
   "execution_count": 96,
   "metadata": {},
   "outputs": [
    {
     "name": "stdout",
     "output_type": "stream",
     "text": [
      "w13 :  0.0992\n",
      "w14 :  0.0003\n",
      "w15 :  0.3009\n",
      "w23 :  -0.1997\n",
      "w24 :  0.1999\n",
      "w25 :  -0.4005\n",
      "w36 :  -0.4006\n",
      "w37 :  0.1967\n",
      "w46 :  0.0989\n",
      "w47 :  -0.1031\n",
      "w56 :  0.5995\n",
      "w57 :  -0.2042\n",
      "eta3 :  0.0999\n",
      "eta4 :  0.2001\n",
      "eta5 :  0.4999\n",
      "eta6 :  -0.1017\n",
      "eta7 :  0.5942\n"
     ]
    }
   ],
   "source": [
    "print_result(x)"
   ]
  },
  {
   "cell_type": "code",
   "execution_count": null,
   "metadata": {},
   "outputs": [],
   "source": []
  }
 ],
 "metadata": {
  "kernelspec": {
   "display_name": "Python 3",
   "language": "python",
   "name": "python3"
  },
  "language_info": {
   "codemirror_mode": {
    "name": "ipython",
    "version": 3
   },
   "file_extension": ".py",
   "mimetype": "text/x-python",
   "name": "python",
   "nbconvert_exporter": "python",
   "pygments_lexer": "ipython3",
   "version": "3.8.5"
  }
 },
 "nbformat": 4,
 "nbformat_minor": 4
}
